{
 "cells": [
  {
   "cell_type": "markdown",
   "id": "116c622b-28c7-427c-bc68-e4a6675ea581",
   "metadata": {},
   "source": [
    "# Data Science Tools and Ecosystem"
   ]
  },
  {
   "cell_type": "markdown",
   "id": "9a99be2f-7ac2-44ab-ab8b-8a18678cdd11",
   "metadata": {},
   "source": [
    "In this notebook, Data Science Tools and Ecosystem are summarized."
   ]
  },
  {
   "cell_type": "markdown",
   "id": "82881715-0ba3-463e-b343-cbaee95af31c",
   "metadata": {},
   "source": [
    "**Objectives:**"
   ]
  },
  {
   "cell_type": "markdown",
   "id": "3a439585-ff2e-420e-ba54-594ff2bb5a21",
   "metadata": {},
   "source": [
    "* List popular languages for Data Science\n",
    "* List popular libraries for Data Science\n",
    "* List popular tools for Data Science\n",
    "* Sample Arithmetic expressions in python"
   ]
  },
  {
   "cell_type": "markdown",
   "id": "de4bad7e-17e6-48d0-8c86-579ac8706a94",
   "metadata": {},
   "source": [
    "##### Some of the popular languages that Data Scientists use are:"
   ]
  },
  {
   "cell_type": "markdown",
   "id": "d8dbee2f-ac62-4c14-a3d3-82f2ac60b174",
   "metadata": {},
   "source": [
    "1. Python\n",
    "2. R\n",
    "3. SQL\n",
    "4. JULIA\n",
    "5. SCALA"
   ]
  },
  {
   "cell_type": "markdown",
   "id": "adf1f323-6030-4f14-9cd5-687f15bddcf7",
   "metadata": {},
   "source": [
    "##### Some of the commonly used libraries used by Data Scientists include:"
   ]
  },
  {
   "cell_type": "markdown",
   "id": "e6108244-fe9d-48fc-9a84-06204e897789",
   "metadata": {},
   "source": [
    "1. pandas\n",
    "2. NumPy\n",
    "3. PyTorch\n",
    "4. Sci-Kit Learn\n",
    "5. MatPlotLib"
   ]
  },
  {
   "cell_type": "markdown",
   "id": "7db9a413-e13d-47fe-a1ff-4c5010150480",
   "metadata": {},
   "source": [
    "|Data Science Tools|\n",
    "|--------------|\n",
    "|Jupyter Notebook|\n",
    "|Jupyter Lab|\n",
    "|R Studio|\n",
    "|IBM Watson Studio|\n",
    "    \n",
    "    "
   ]
  },
  {
   "cell_type": "markdown",
   "id": "5b1d2d0e-0cac-4aa2-af42-1ae051a985c9",
   "metadata": {},
   "source": [
    "### Below are a few examples of evaluating arithmetic expressions in Python"
   ]
  },
  {
   "cell_type": "code",
   "execution_count": 11,
   "id": "f33e9bed-75e9-4720-923c-783ec6f34769",
   "metadata": {},
   "outputs": [
    {
     "data": {
      "text/plain": [
       "17"
      ]
     },
     "execution_count": 11,
     "metadata": {},
     "output_type": "execute_result"
    }
   ],
   "source": [
    "# This a simple arithmetic expression to mutiply then add integers\n",
    "(3*4)+5"
   ]
  },
  {
   "cell_type": "code",
   "execution_count": 12,
   "id": "628970aa-5d8b-47f4-8968-f0ce71602a1b",
   "metadata": {},
   "outputs": [
    {
     "data": {
      "text/plain": [
       "3.3333333333333335"
      ]
     },
     "execution_count": 12,
     "metadata": {},
     "output_type": "execute_result"
    }
   ],
   "source": [
    "#This will convert 200 minutes to hours by diving by 60\n",
    "200/60"
   ]
  },
  {
   "cell_type": "markdown",
   "id": "839249e2-5cf5-4afc-ac5f-05823ba351a7",
   "metadata": {},
   "source": [
    "## Author"
   ]
  },
  {
   "cell_type": "markdown",
   "id": "eb84c306-b0a1-44e3-959c-97a1778f8a21",
   "metadata": {},
   "source": [
    "Madhan VS"
   ]
  }
 ],
 "metadata": {
  "kernelspec": {
   "display_name": "Python 3 (ipykernel)",
   "language": "python",
   "name": "python3"
  },
  "language_info": {
   "codemirror_mode": {
    "name": "ipython",
    "version": 3
   },
   "file_extension": ".py",
   "mimetype": "text/x-python",
   "name": "python",
   "nbconvert_exporter": "python",
   "pygments_lexer": "ipython3",
   "version": "3.12.8"
  }
 },
 "nbformat": 4,
 "nbformat_minor": 5
}
